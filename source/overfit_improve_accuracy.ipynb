{
 "cells": [
  {
   "cell_type": "code",
   "execution_count": 20,
   "metadata": {},
   "outputs": [],
   "source": [
    "import numpy as np \n",
    "import pandas as pd \n",
    "import tensorflow as tf\n",
    "import keras\n",
    "from keras import layers\n",
    "import matplotlib.pyplot as plt \n",
    "import helper\n",
    "from sklearn.metrics import classification_report\n",
    "import copy"
   ]
  },
  {
   "cell_type": "markdown",
   "metadata": {},
   "source": [
    "### Overfitting\n",
    "Sau khi thực hiện huấn luyện mô hình trên tập dữ liệu. Nhận thấy rằng đối với mô hình Feedforward Neural Network, mô hình có xu hướng rất tốt nên không cần phải thực hiện các giải pháp để giảm overfitting. <br>\n",
    "Đối với mô hình Recurrent Neural Network, mô hình có xu hướng overfitting dựa trên độ đo (metrics) độ chính xác (accuracy ~ 0.6952). Vì vậy, chúng em chọn sử dụng mô hình Recurrent Neural Network để thực hiện giải pháp giảm overfitting. Cụ thể là sử dụng giải pháp Dropout để giảm độ phức tạp của mô hình học máy và Early Stopping. <br>\n",
    "Giải pháp Early Stopping sẽ giúp ta giảm overfitting bằng cách dừng quá trình huấn luyện mô hình học máy khi độ chính xác trên tập dữ liệu kiểm thử không còn tăng nữa. <br>\n",
    "Để thực hiện giải pháp Early Stopping, ta sẽ sử dụng EarlyStopping callback của thư viện Keras."
   ]
  },
  {
   "cell_type": "code",
   "execution_count": 21,
   "metadata": {},
   "outputs": [],
   "source": [
    "df = pd.read_csv('./TrafficTwoMonth.csv')"
   ]
  },
  {
   "cell_type": "code",
   "execution_count": 22,
   "metadata": {},
   "outputs": [],
   "source": [
    "traffic_sistuation = {\n",
    "    'low': 0,\n",
    "    'normal': 1,\n",
    "    'high': 2, \n",
    "    'heavy':3\n",
    "}"
   ]
  },
  {
   "cell_type": "code",
   "execution_count": 23,
   "metadata": {},
   "outputs": [
    {
     "data": {
      "text/html": [
       "<div>\n",
       "<style scoped>\n",
       "    .dataframe tbody tr th:only-of-type {\n",
       "        vertical-align: middle;\n",
       "    }\n",
       "\n",
       "    .dataframe tbody tr th {\n",
       "        vertical-align: top;\n",
       "    }\n",
       "\n",
       "    .dataframe thead th {\n",
       "        text-align: right;\n",
       "    }\n",
       "</style>\n",
       "<table border=\"1\" class=\"dataframe\">\n",
       "  <thead>\n",
       "    <tr style=\"text-align: right;\">\n",
       "      <th></th>\n",
       "      <th>Traffic Situation</th>\n",
       "    </tr>\n",
       "    <tr>\n",
       "      <th>Datetime</th>\n",
       "      <th></th>\n",
       "    </tr>\n",
       "  </thead>\n",
       "  <tbody>\n",
       "    <tr>\n",
       "      <th>2023-12-12 00:00:00</th>\n",
       "      <td>1</td>\n",
       "    </tr>\n",
       "    <tr>\n",
       "      <th>2023-12-12 00:15:00</th>\n",
       "      <td>1</td>\n",
       "    </tr>\n",
       "    <tr>\n",
       "      <th>2023-12-12 00:30:00</th>\n",
       "      <td>1</td>\n",
       "    </tr>\n",
       "    <tr>\n",
       "      <th>2023-12-12 00:45:00</th>\n",
       "      <td>1</td>\n",
       "    </tr>\n",
       "    <tr>\n",
       "      <th>2023-12-12 01:00:00</th>\n",
       "      <td>1</td>\n",
       "    </tr>\n",
       "    <tr>\n",
       "      <th>...</th>\n",
       "      <td>...</td>\n",
       "    </tr>\n",
       "    <tr>\n",
       "      <th>2023-12-14 22:45:00</th>\n",
       "      <td>1</td>\n",
       "    </tr>\n",
       "    <tr>\n",
       "      <th>2023-12-14 23:00:00</th>\n",
       "      <td>1</td>\n",
       "    </tr>\n",
       "    <tr>\n",
       "      <th>2023-12-14 23:15:00</th>\n",
       "      <td>1</td>\n",
       "    </tr>\n",
       "    <tr>\n",
       "      <th>2023-12-14 23:30:00</th>\n",
       "      <td>1</td>\n",
       "    </tr>\n",
       "    <tr>\n",
       "      <th>2023-12-14 23:45:00</th>\n",
       "      <td>0</td>\n",
       "    </tr>\n",
       "  </tbody>\n",
       "</table>\n",
       "<p>5952 rows × 1 columns</p>\n",
       "</div>"
      ],
      "text/plain": [
       "                     Traffic Situation\n",
       "Datetime                              \n",
       "2023-12-12 00:00:00                  1\n",
       "2023-12-12 00:15:00                  1\n",
       "2023-12-12 00:30:00                  1\n",
       "2023-12-12 00:45:00                  1\n",
       "2023-12-12 01:00:00                  1\n",
       "...                                ...\n",
       "2023-12-14 22:45:00                  1\n",
       "2023-12-14 23:00:00                  1\n",
       "2023-12-14 23:15:00                  1\n",
       "2023-12-14 23:30:00                  1\n",
       "2023-12-14 23:45:00                  0\n",
       "\n",
       "[5952 rows x 1 columns]"
      ]
     },
     "execution_count": 23,
     "metadata": {},
     "output_type": "execute_result"
    }
   ],
   "source": [
    "new_df = copy.copy(df)\n",
    "new_df = new_df.drop([\"CarCount\", \"BikeCount\", \"BusCount\", \"TruckCount\", \"Total\"], axis=1)\n",
    "new_df2 = copy.copy(new_df)\n",
    "new_df2['Datetime'] = new_df2.apply(lambda x: helper.generate_datetime(x['Time'], x['Date'], x['Day of the week']), axis=1) \n",
    "new_df3 = new_df2.set_index('Datetime')\n",
    "new_df4 = new_df3.drop(['Time', 'Date', 'Day of the week'], axis=1)\n",
    "new_df4['Traffic Situation'] = new_df4['Traffic Situation'].replace(traffic_sistuation)\n",
    "new_df4"
   ]
  },
  {
   "cell_type": "code",
   "execution_count": 24,
   "metadata": {},
   "outputs": [
    {
     "data": {
      "text/plain": [
       "array([[0, 1, 0, 0],\n",
       "       [0, 1, 0, 0],\n",
       "       [0, 1, 0, 0],\n",
       "       ...,\n",
       "       [0, 1, 0, 0],\n",
       "       [0, 1, 0, 0],\n",
       "       [1, 0, 0, 0]])"
      ]
     },
     "execution_count": 24,
     "metadata": {},
     "output_type": "execute_result"
    }
   ],
   "source": [
    "data = pd.get_dummies(new_df4.to_numpy().reshape(-1), dtype=int).values\n",
    "data"
   ]
  },
  {
   "cell_type": "code",
   "execution_count": 25,
   "metadata": {},
   "outputs": [],
   "source": [
    "timestep = 30\n",
    "\n",
    "X = []\n",
    "y = []\n",
    "\n",
    "n = len(data)\n",
    "\n",
    "for i in range(n - (timestep)):\n",
    "    X.append(data[i:i+timestep])\n",
    "    y.append(data[i+timestep])\n",
    "\n",
    "X = np.asanyarray(X)\n",
    "y = np.asanyarray(y)\n",
    "\n",
    "\n",
    "index_test = 5000\n",
    "X_train = X[:index_test,:,:]\n",
    "X_test = X[index_test:,:,:]\n",
    "y_train = y[:index_test]    \n",
    "y_test= y[index_test:]  "
   ]
  },
  {
   "cell_type": "code",
   "execution_count": 26,
   "metadata": {},
   "outputs": [],
   "source": [
    "from keras.callbacks import EarlyStopping"
   ]
  },
  {
   "cell_type": "code",
   "execution_count": 27,
   "metadata": {},
   "outputs": [
    {
     "name": "stdout",
     "output_type": "stream",
     "text": [
      "Epoch 1/20\n",
      "40/40 [==============================] - 2s 15ms/step - loss: 1.1541 - accuracy: 0.5935 - val_loss: 1.1122 - val_accuracy: 0.5450\n",
      "Epoch 2/20\n",
      "40/40 [==============================] - 0s 9ms/step - loss: 0.9453 - accuracy: 0.6590 - val_loss: 1.0181 - val_accuracy: 0.5910\n",
      "Epoch 3/20\n",
      "40/40 [==============================] - 0s 11ms/step - loss: 0.8798 - accuracy: 0.6768 - val_loss: 0.9510 - val_accuracy: 0.6350\n",
      "Epoch 4/20\n",
      "40/40 [==============================] - 0s 11ms/step - loss: 0.8669 - accuracy: 0.6865 - val_loss: 1.0004 - val_accuracy: 0.6310\n",
      "Epoch 5/20\n",
      "40/40 [==============================] - 0s 11ms/step - loss: 0.8408 - accuracy: 0.7007 - val_loss: 0.9184 - val_accuracy: 0.6680\n",
      "Epoch 6/20\n",
      "40/40 [==============================] - 0s 11ms/step - loss: 0.8227 - accuracy: 0.7057 - val_loss: 0.9131 - val_accuracy: 0.6730\n",
      "Epoch 7/20\n",
      "40/40 [==============================] - 0s 11ms/step - loss: 0.8189 - accuracy: 0.7025 - val_loss: 0.8987 - val_accuracy: 0.6720\n",
      "Epoch 8/20\n",
      "40/40 [==============================] - 0s 11ms/step - loss: 0.8057 - accuracy: 0.7132 - val_loss: 0.9216 - val_accuracy: 0.6680\n",
      "Epoch 9/20\n",
      "40/40 [==============================] - 0s 11ms/step - loss: 0.8032 - accuracy: 0.7060 - val_loss: 0.8820 - val_accuracy: 0.6770\n",
      "Epoch 10/20\n",
      "40/40 [==============================] - 0s 11ms/step - loss: 0.8015 - accuracy: 0.7088 - val_loss: 0.9082 - val_accuracy: 0.6680\n",
      "Epoch 11/20\n",
      "40/40 [==============================] - 0s 12ms/step - loss: 0.7865 - accuracy: 0.7103 - val_loss: 0.8823 - val_accuracy: 0.6800\n",
      "Epoch 12/20\n",
      "40/40 [==============================] - 1s 13ms/step - loss: 0.7838 - accuracy: 0.7180 - val_loss: 0.9091 - val_accuracy: 0.6750\n",
      "Epoch 13/20\n",
      "40/40 [==============================] - 0s 12ms/step - loss: 0.7830 - accuracy: 0.7160 - val_loss: 0.8929 - val_accuracy: 0.6680\n",
      "Epoch 14/20\n",
      "40/40 [==============================] - 0s 12ms/step - loss: 0.7749 - accuracy: 0.7172 - val_loss: 0.9016 - val_accuracy: 0.6870\n",
      "Epoch 15/20\n",
      "40/40 [==============================] - 0s 12ms/step - loss: 0.7650 - accuracy: 0.7188 - val_loss: 0.8987 - val_accuracy: 0.6770\n",
      "Epoch 16/20\n",
      "40/40 [==============================] - 0s 13ms/step - loss: 0.7649 - accuracy: 0.7143 - val_loss: 0.9101 - val_accuracy: 0.6640\n",
      "Epoch 17/20\n",
      "40/40 [==============================] - 0s 12ms/step - loss: 0.7521 - accuracy: 0.7210 - val_loss: 0.8976 - val_accuracy: 0.6780\n",
      "Epoch 18/20\n",
      "40/40 [==============================] - 0s 13ms/step - loss: 0.7523 - accuracy: 0.7258 - val_loss: 0.8763 - val_accuracy: 0.6800\n",
      "Epoch 19/20\n",
      "40/40 [==============================] - 0s 11ms/step - loss: 0.7505 - accuracy: 0.7222 - val_loss: 0.8848 - val_accuracy: 0.6730\n",
      "Epoch 20/20\n",
      "40/40 [==============================] - 0s 11ms/step - loss: 0.7511 - accuracy: 0.7197 - val_loss: 0.9035 - val_accuracy: 0.6830\n"
     ]
    }
   ],
   "source": [
    "model_drop = keras.models.Sequential([\n",
    "    layers.LSTM(32, activation='relu', input_shape=(X_train.shape[1], X_train.shape[2])),\n",
    "    layers.Dropout(0.3),\n",
    "    layers.Dense(4, activation='softmax'),\n",
    "])\n",
    "\n",
    "early_stopping = EarlyStopping(monitor='val_loss', patience=9, restore_best_weights=True)\n",
    "model_drop.compile(optimizer='adam', loss='categorical_crossentropy', metrics=['accuracy'])\n",
    "history_drop = model_drop.fit(X_train, y_train, epochs=20, batch_size=100, callbacks=[early_stopping], validation_split=0.2)"
   ]
  },
  {
   "cell_type": "code",
   "execution_count": 28,
   "metadata": {},
   "outputs": [
    {
     "data": {
      "image/png": "[encoded data removed]",
      "text/plain": [
       "<Figure size 800x500 with 1 Axes>"
      ]
     },
     "metadata": {},
     "output_type": "display_data"
    }
   ],
   "source": [
    "helper.plot_Loss_Val(history_drop)"
   ]
  },
  {
   "cell_type": "markdown",
   "metadata": {},
   "source": [
    "#### Kết quả\n",
    "Sau khi thực hiện giải pháp Dropout (để giảm độ phức tạp của mô hình) và Early Stopping, độ chính xác trên tập dữ liệu huấn luyện đã giảm từ 0.6875 xuống 0.6765. Tuy nhiên, độ chính xác trên tập dữ liệu kiểm thử vẫn giữ nguyên ~ 0.6952. Điều này chứng tỏ mô hình đã không còn overfitting nữa. <br>\n",
    "Trước khi thực hiện giải pháp Dropout và Early Stopping:\n",
    "```terminal\n",
    "...\n",
    "Epoch 199/200\n",
    "48/48 [==============================] - 0s 6ms/step - loss: 0.8547 - accuracy: 0.6856 - val_loss: 0.8476 - val_accuracy: 0.6952\n",
    "Epoch 200/200\n",
    "48/48 [==============================] - 0s 5ms/step - loss: 0.8547 - accuracy: 0.6875 - val_loss: 0.8468 - val_accuracy: 0.6952\n",
    "```\n",
    "Sau khi thực hiện giải pháp Dropout và Early Stopping:\n",
    "```terminal\n",
    "...\n",
    "Epoch 199/200\n",
    "48/48 [==============================] - 0s 5ms/step - loss: 0.8747 - accuracy: 0.6776 - val_loss: 0.8474 - val_accuracy: 0.6952\n",
    "Epoch 200/200\n",
    "48/48 [==============================] - 0s 6ms/step - loss: 0.8771 - accuracy: 0.6765 - val_loss: 0.8473 - val_accuracy: 0.6952\n",
    "```"
   ]
  },
  {
   "cell_type": "markdown",
   "metadata": {},
   "source": [
    "Đoạn code sau đây thực hiện giải pháp tránh overfitting bằng phương pháp L2 regularization."
   ]
  },
  {
   "cell_type": "code",
   "execution_count": 29,
   "metadata": {},
   "outputs": [],
   "source": [
    "from keras.regularizers import l2"
   ]
  },
  {
   "cell_type": "code",
   "execution_count": 30,
   "metadata": {},
   "outputs": [
    {
     "name": "stdout",
     "output_type": "stream",
     "text": [
      "Epoch 1/20\n",
      "40/40 [==============================] - 2s 16ms/step - loss: 1.2267 - accuracy: 0.6173 - val_loss: 1.1941 - val_accuracy: 0.5220\n",
      "Epoch 2/20\n",
      "40/40 [==============================] - 0s 12ms/step - loss: 0.9930 - accuracy: 0.6428 - val_loss: 1.1330 - val_accuracy: 0.5290\n",
      "Epoch 3/20\n",
      "40/40 [==============================] - 1s 13ms/step - loss: 0.9451 - accuracy: 0.6515 - val_loss: 1.1098 - val_accuracy: 0.5600\n",
      "Epoch 4/20\n",
      "40/40 [==============================] - 1s 13ms/step - loss: 0.9170 - accuracy: 0.6720 - val_loss: 1.0301 - val_accuracy: 0.6180\n",
      "Epoch 5/20\n",
      "40/40 [==============================] - 1s 13ms/step - loss: 0.8528 - accuracy: 0.6933 - val_loss: 0.9685 - val_accuracy: 0.6480\n",
      "Epoch 6/20\n",
      "40/40 [==============================] - 1s 15ms/step - loss: 0.8183 - accuracy: 0.7065 - val_loss: 0.9596 - val_accuracy: 0.6560\n",
      "Epoch 7/20\n",
      "40/40 [==============================] - 1s 13ms/step - loss: 0.8053 - accuracy: 0.7128 - val_loss: 0.9410 - val_accuracy: 0.6750\n",
      "Epoch 8/20\n",
      "40/40 [==============================] - 0s 12ms/step - loss: 0.8032 - accuracy: 0.7185 - val_loss: 0.9429 - val_accuracy: 0.6750\n",
      "Epoch 9/20\n",
      "40/40 [==============================] - 0s 11ms/step - loss: 0.7910 - accuracy: 0.7237 - val_loss: 0.9381 - val_accuracy: 0.6730\n",
      "Epoch 10/20\n",
      "40/40 [==============================] - 0s 12ms/step - loss: 0.7846 - accuracy: 0.7243 - val_loss: 0.9244 - val_accuracy: 0.6750\n",
      "Epoch 11/20\n",
      "40/40 [==============================] - 1s 13ms/step - loss: 0.7779 - accuracy: 0.7235 - val_loss: 0.9164 - val_accuracy: 0.6780\n",
      "Epoch 12/20\n",
      "40/40 [==============================] - 1s 13ms/step - loss: 0.7754 - accuracy: 0.7297 - val_loss: 0.9274 - val_accuracy: 0.6730\n",
      "Epoch 13/20\n",
      "40/40 [==============================] - 1s 13ms/step - loss: 0.7704 - accuracy: 0.7260 - val_loss: 0.9122 - val_accuracy: 0.6530\n",
      "Epoch 14/20\n",
      "40/40 [==============================] - 0s 11ms/step - loss: 0.7761 - accuracy: 0.7228 - val_loss: 0.9409 - val_accuracy: 0.6640\n",
      "Epoch 15/20\n",
      "40/40 [==============================] - 0s 12ms/step - loss: 0.7687 - accuracy: 0.7203 - val_loss: 0.9076 - val_accuracy: 0.6800\n",
      "Epoch 16/20\n",
      "40/40 [==============================] - 0s 12ms/step - loss: 0.7671 - accuracy: 0.7247 - val_loss: 0.9114 - val_accuracy: 0.6840\n",
      "Epoch 17/20\n",
      "40/40 [==============================] - 0s 12ms/step - loss: 0.7675 - accuracy: 0.7262 - val_loss: 0.9326 - val_accuracy: 0.6550\n",
      "Epoch 18/20\n",
      "40/40 [==============================] - 0s 11ms/step - loss: 0.7647 - accuracy: 0.7247 - val_loss: 0.9098 - val_accuracy: 0.6710\n",
      "Epoch 19/20\n",
      "40/40 [==============================] - 0s 12ms/step - loss: 0.7555 - accuracy: 0.7270 - val_loss: 0.9072 - val_accuracy: 0.6640\n",
      "Epoch 20/20\n",
      "40/40 [==============================] - 0s 11ms/step - loss: 0.7550 - accuracy: 0.7262 - val_loss: 0.9224 - val_accuracy: 0.6730\n"
     ]
    }
   ],
   "source": [
    "model_l2 = keras.models.Sequential([\n",
    "    layers.LSTM(32, activation='relu', input_shape=(X_train.shape[1], X_train.shape[2]), kernel_regularizer=l2(0.01)),\n",
    "    layers.Dense(4, activation='softmax'),\n",
    "])\n",
    "model_l2.compile(optimizer='adam', loss='categorical_crossentropy', metrics=['accuracy'])\n",
    "history_l2 = model_l2.fit(X_train, y_train, epochs=20, validation_split=0.2, batch_size=100)"
   ]
  },
  {
   "cell_type": "code",
   "execution_count": 31,
   "metadata": {},
   "outputs": [
    {
     "data": {
      "image/png": "[encoded data removed]",
      "text/plain": [
       "<Figure size 800x500 with 1 Axes>"
      ]
     },
     "metadata": {},
     "output_type": "display_data"
    }
   ],
   "source": [
    "plt.figure(figsize=(8,5))\n",
    "plt.plot(history_l2.history['loss'])\n",
    "plt.plot(history_l2.history['val_loss'], c='red')\n",
    "plt.xlabel(\"Epochs\")\n",
    "plt.ylabel(\"Loss\")\n",
    "plt.legend([\"Train\", \"Validation\"])\n",
    "plt.title(\"Model Accuracy with L2 Regularization method\")\n",
    "plt.show()"
   ]
  },
  {
   "cell_type": "markdown",
   "metadata": {},
   "source": [
    "### Cải thiện độ chính xác"
   ]
  },
  {
   "cell_type": "markdown",
   "metadata": {},
   "source": [
    "#### Giải pháp sử dụng LSTM đa chiều\n",
    "Giải pháp sử dụng LSTM đa chiều sẽ giúp ta cải thiện độ chính xác bằng cách sử dụng LSTM đa chiều (Bidirectional LSTM) thay vì sử dụng LSTM đơn chiều (LSTM). <br>\n",
    "Qua đó, lớp LSTM đa chiều (Bidirectional LSTM) sẽ giúp ta cải thiện độ chính xác bằng cách xem xét cả thông tin từ quá khứ và tương lai. <br>\n",
    "Để thực hiện giải pháp sử dụng LSTM đa chiều, ta sẽ sử dụng lớp Bidirectional của thư viện Keras. <br>"
   ]
  },
  {
   "cell_type": "code",
   "execution_count": 13,
   "metadata": {},
   "outputs": [
    {
     "name": "stdout",
     "output_type": "stream",
     "text": [
      "Epoch 1/50\n",
      "125/125 [==============================] - 9s 25ms/step - loss: 0.9852 - accuracy: 0.6445 - val_loss: 1.0649 - val_accuracy: 0.6000\n",
      "Epoch 2/50\n",
      "125/125 [==============================] - 2s 13ms/step - loss: 0.8503 - accuracy: 0.6975 - val_loss: 0.9254 - val_accuracy: 0.6710\n",
      "Epoch 3/50\n",
      "125/125 [==============================] - 2s 13ms/step - loss: 0.7950 - accuracy: 0.7170 - val_loss: 0.8976 - val_accuracy: 0.6730\n",
      "Epoch 4/50\n",
      "125/125 [==============================] - 2s 13ms/step - loss: 0.7693 - accuracy: 0.7222 - val_loss: 0.9030 - val_accuracy: 0.6670\n",
      "Epoch 5/50\n",
      "125/125 [==============================] - 2s 13ms/step - loss: 0.7560 - accuracy: 0.7303 - val_loss: 0.8848 - val_accuracy: 0.6950\n",
      "Epoch 6/50\n",
      "125/125 [==============================] - 2s 13ms/step - loss: 0.7421 - accuracy: 0.7340 - val_loss: 0.8722 - val_accuracy: 0.6860\n",
      "Epoch 7/50\n",
      "125/125 [==============================] - 2s 13ms/step - loss: 0.7307 - accuracy: 0.7350 - val_loss: 0.8924 - val_accuracy: 0.6840\n",
      "Epoch 8/50\n",
      "125/125 [==============================] - 2s 13ms/step - loss: 0.7293 - accuracy: 0.7325 - val_loss: 0.8738 - val_accuracy: 0.6780\n",
      "Epoch 9/50\n",
      "125/125 [==============================] - 2s 13ms/step - loss: 0.7181 - accuracy: 0.7350 - val_loss: 0.8845 - val_accuracy: 0.6660\n",
      "Epoch 10/50\n",
      "125/125 [==============================] - 2s 13ms/step - loss: 0.7143 - accuracy: 0.7355 - val_loss: 0.8942 - val_accuracy: 0.6590\n",
      "Epoch 11/50\n",
      "125/125 [==============================] - 2s 13ms/step - loss: 0.7089 - accuracy: 0.7347 - val_loss: 0.8768 - val_accuracy: 0.6660\n"
     ]
    },
    {
     "data": {
      "text/plain": [
       "<keras.src.callbacks.History at 0x27704298990>"
      ]
     },
     "execution_count": 13,
     "metadata": {},
     "output_type": "execute_result"
    }
   ],
   "source": [
    "model_bid = keras.models.Sequential([\n",
    "    layers.Input(shape=(X_train.shape[1], X_test.shape[2])),\n",
    "    layers.Bidirectional(layers.LSTM(10, return_sequences=True)),\n",
    "    layers.Bidirectional(layers.LSTM(10)),\n",
    "    layers.Dense(4, activation='softmax')\n",
    "])\n",
    "early_stopping = EarlyStopping(monitor='val_loss', patience=5, restore_best_weights=True)\n",
    "model_bid.compile(optimizer='adam', loss='categorical_crossentropy', metrics=['accuracy'])\n",
    "model_bid.fit(X_train, y_train, epochs=50, callbacks=[early_stopping], validation_split=0.2)"
   ]
  },
  {
   "cell_type": "markdown",
   "metadata": {},
   "source": [
    "#### Kết quả\n",
    "Sau khi thực hiện giải pháp sử dụng LSTM đa chiều, độ chính xác trên tập dữ liệu kiểm thử đã tăng lên ~ 0.6969 (từ 0.6952) trong khi độ chính xác trên tập dữ liệu huấn luyện đã giảm xuống ~ 0.6845 (từ 0.6875). <br>\n",
    "Mặc dù độ chính xác tăng lên không nhiều, nhưng độ ổn định, và hiệu suất học của mô hình đã được cải thiện. Cụ thể, từ sau epoch thứ 50, độ chính xác của mô hình đã không còn thay đổi và biến động nhiều như trước đó. Trong khi đó, độ chính xác của mô hình trước khi thực hiện giải pháp sử dụng LSTM đa chiều chỉ ổn định sau epoch thứ 100. Điều này vừa giúp ta tiết kiệm được thời gian huấn luyện mô hình, vừa giúp ta có thể tăng độ chính xác của mô hình. Ta cũng có thể áp dụng thêm Early Stopping để giảm thời gian huấn luyện mô hình khi độ chính xác của mô hình không còn thay đổi và biến động nhiều như trước đó. <br>\n",
    "Sau khi thực hiện giải pháp sử dụng LSTM đa chiều:"
   ]
  },
  {
   "cell_type": "markdown",
   "metadata": {},
   "source": [
    "Đánh giá kết quả sau khi train.\\\n",
    "Nhìn chung RNN model sau khi áp dụng các kĩ thuật cải thiện thì có tỉ lệ dự đóan cao hơn một ít."
   ]
  },
  {
   "cell_type": "code",
   "execution_count": 14,
   "metadata": {},
   "outputs": [
    {
     "name": "stdout",
     "output_type": "stream",
     "text": [
      "29/29 [==============================] - 0s 5ms/step - loss: 0.8321 - accuracy: 0.7169\n",
      "Loss: 0.8320563435554504, Accuracy: 0.7169197201728821\n"
     ]
    }
   ],
   "source": [
    "loss, accuracy = model_bid.evaluate(X_test, y_test)\n",
    "print(f'Loss: {loss}, Accuracy: {accuracy}')"
   ]
  },
  {
   "cell_type": "code",
   "execution_count": 19,
   "metadata": {},
   "outputs": [
    {
     "name": "stdout",
     "output_type": "stream",
     "text": [
      "29/29 [==============================] - 0s 6ms/step\n"
     ]
    },
    {
     "ename": "AxisError",
     "evalue": "axis 1 is out of bounds for array of dimension 1",
     "output_type": "error",
     "traceback": [
      "\u001b[1;31m---------------------------------------------------------------------------\u001b[0m",
      "\u001b[1;31mAxisError\u001b[0m                                 Traceback (most recent call last)",
      "Cell \u001b[1;32mIn[19], line 3\u001b[0m\n\u001b[0;32m      1\u001b[0m y_pred \u001b[38;5;241m=\u001b[39m model_bid\u001b[38;5;241m.\u001b[39mpredict(X_test)\n\u001b[0;32m      2\u001b[0m y_pred \u001b[38;5;241m=\u001b[39m y_pred\u001b[38;5;241m.\u001b[39margmax(axis\u001b[38;5;241m=\u001b[39m\u001b[38;5;241m1\u001b[39m)\n\u001b[1;32m----> 3\u001b[0m y_test \u001b[38;5;241m=\u001b[39m \u001b[43my_test\u001b[49m\u001b[38;5;241;43m.\u001b[39;49m\u001b[43margmax\u001b[49m\u001b[43m(\u001b[49m\u001b[43maxis\u001b[49m\u001b[38;5;241;43m=\u001b[39;49m\u001b[38;5;241;43m1\u001b[39;49m\u001b[43m)\u001b[49m\n",
      "\u001b[1;31mAxisError\u001b[0m: axis 1 is out of bounds for array of dimension 1"
     ]
    }
   ],
   "source": [
    "y_pred = model_bid.predict(X_test)\n",
    "y_pred = y_pred.argmax(axis=1)\n",
    "y_test = y_test.argmax(axis=1)"
   ]
  },
  {
   "cell_type": "code",
   "execution_count": null,
   "metadata": {},
   "outputs": [],
   "source": []
  },
  {
   "cell_type": "code",
   "execution_count": 16,
   "metadata": {},
   "outputs": [
    {
     "name": "stdout",
     "output_type": "stream",
     "text": [
      "              precision    recall  f1-score   support\n",
      "\n",
      "           0       0.63      0.25      0.35       151\n",
      "           1       0.69      0.93      0.79       492\n",
      "           2       0.00      0.00      0.00        62\n",
      "           3       0.84      0.76      0.80       217\n",
      "\n",
      "    accuracy                           0.72       922\n",
      "   macro avg       0.54      0.49      0.49       922\n",
      "weighted avg       0.67      0.72      0.67       922\n",
      "\n"
     ]
    },
    {
     "name": "stderr",
     "output_type": "stream",
     "text": [
      "c:\\Users\\phatt\\AppData\\Local\\Programs\\Python\\Python311\\Lib\\site-packages\\sklearn\\metrics\\_classification.py:1469: UndefinedMetricWarning: Precision and F-score are ill-defined and being set to 0.0 in labels with no predicted samples. Use `zero_division` parameter to control this behavior.\n",
      "  _warn_prf(average, modifier, msg_start, len(result))\n",
      "c:\\Users\\phatt\\AppData\\Local\\Programs\\Python\\Python311\\Lib\\site-packages\\sklearn\\metrics\\_classification.py:1469: UndefinedMetricWarning: Precision and F-score are ill-defined and being set to 0.0 in labels with no predicted samples. Use `zero_division` parameter to control this behavior.\n",
      "  _warn_prf(average, modifier, msg_start, len(result))\n",
      "c:\\Users\\phatt\\AppData\\Local\\Programs\\Python\\Python311\\Lib\\site-packages\\sklearn\\metrics\\_classification.py:1469: UndefinedMetricWarning: Precision and F-score are ill-defined and being set to 0.0 in labels with no predicted samples. Use `zero_division` parameter to control this behavior.\n",
      "  _warn_prf(average, modifier, msg_start, len(result))\n"
     ]
    }
   ],
   "source": [
    "print(classification_report(y_test, y_pred))"
   ]
  }
 ],
 "metadata": {
  "kernelspec": {
   "display_name": "Python 3",
   "language": "python",
   "name": "python3"
  },
  "language_info": {
   "codemirror_mode": {
    "name": "ipython",
    "version": 3
   },
   "file_extension": ".py",
   "mimetype": "text/x-python",
   "name": "python",
   "nbconvert_exporter": "python",
   "pygments_lexer": "ipython3",
   "version": "3.11.5"
  }
 },
 "nbformat": 4,
 "nbformat_minor": 2
}
